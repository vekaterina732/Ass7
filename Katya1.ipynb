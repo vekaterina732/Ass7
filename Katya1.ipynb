{
 "cells": [
  {
   "cell_type": "code",
   "execution_count": 1,
   "id": "17b704db-5cc2-41b3-96a1-61217b4b0a08",
   "metadata": {
    "tags": []
   },
   "outputs": [
    {
     "name": "stdin",
     "output_type": "stream",
     "text": [
      "Enter the 1st number:  15\n",
      "Enter the 2nd number:  8\n"
     ]
    },
    {
     "name": "stdout",
     "output_type": "stream",
     "text": [
      "Here is the sum: 158\n"
     ]
    }
   ],
   "source": [
    "a=input ('Enter the 1st number: ')\n",
    "b=input ('Enter the 2nd number: ')\n",
    "print (\"Here is the sum:\", a+b)"
   ]
  },
  {
   "cell_type": "code",
   "execution_count": null,
   "id": "2841d974-80cd-47ea-af51-f986da9344b4",
   "metadata": {},
   "outputs": [],
   "source": []
  }
 ],
 "metadata": {
  "kernelspec": {
   "display_name": "Python 3 (ipykernel)",
   "language": "python",
   "name": "python3"
  },
  "language_info": {
   "codemirror_mode": {
    "name": "ipython",
    "version": 3
   },
   "file_extension": ".py",
   "mimetype": "text/x-python",
   "name": "python",
   "nbconvert_exporter": "python",
   "pygments_lexer": "ipython3",
   "version": "3.10.9"
  }
 },
 "nbformat": 4,
 "nbformat_minor": 5
}

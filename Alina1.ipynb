{
 "cells": [
  {
   "cell_type": "code",
   "execution_count": 1,
   "id": "12fc9539-5e93-4278-a013-5276dd0edc30",
   "metadata": {
    "tags": []
   },
   "outputs": [
    {
     "name": "stdin",
     "output_type": "stream",
     "text": [
      "How many apples do you need? 4\n",
      "How many bananas do you need? 3\n"
     ]
    },
    {
     "name": "stdout",
     "output_type": "stream",
     "text": [
      "4\n",
      "3\n"
     ]
    }
   ],
   "source": [
    "apples=int(input(\"How many apples do you need?\"))\n",
    "bananas=int(input(\"How many bananas do you need?\"))\n",
    "print(apples)\n",
    "print(bananas)"
   ]
  },
  {
   "cell_type": "code",
   "execution_count": null,
   "id": "72fff7c2-9b2c-4cb1-9481-0f434993ab2a",
   "metadata": {},
   "outputs": [],
   "source": []
  }
 ],
 "metadata": {
  "kernelspec": {
   "display_name": "Python 3 (ipykernel)",
   "language": "python",
   "name": "python3"
  },
  "language_info": {
   "codemirror_mode": {
    "name": "ipython",
    "version": 3
   },
   "file_extension": ".py",
   "mimetype": "text/x-python",
   "name": "python",
   "nbconvert_exporter": "python",
   "pygments_lexer": "ipython3",
   "version": "3.10.9"
  }
 },
 "nbformat": 4,
 "nbformat_minor": 5
}

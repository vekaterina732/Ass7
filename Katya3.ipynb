{
 "cells": [
  {
   "cell_type": "code",
   "execution_count": 1,
   "id": "b1cfe65b-1840-40cc-a6dc-a54cdca14664",
   "metadata": {},
   "outputs": [
    {
     "name": "stdout",
     "output_type": "stream",
     "text": [
      "This is Python\n",
      "c\n",
      "Hey world \n",
      "this is me\n"
     ]
    }
   ],
   "source": [
    "strings = 'This is Python'\n",
    "char = \"c\"\n",
    "multiline_str = \"\"\"Hey world \n",
    "this is me\"\"\"\n",
    "unicode = u\"\\u00dcnic\\u00f6de\"\n",
    "my_string = \"multiline \\n string\"\n",
    "raw_str = r\"raw \\n string\"\n",
    "print(strings)\n",
    "print(char)\n",
    "print(multiline_str)"
   ]
  },
  {
   "cell_type": "code",
   "execution_count": null,
   "id": "3e94392e-063a-40c3-8577-675cba707369",
   "metadata": {},
   "outputs": [],
   "source": []
  }
 ],
 "metadata": {
  "kernelspec": {
   "display_name": "Python 3 (ipykernel)",
   "language": "python",
   "name": "python3"
  },
  "language_info": {
   "codemirror_mode": {
    "name": "ipython",
    "version": 3
   },
   "file_extension": ".py",
   "mimetype": "text/x-python",
   "name": "python",
   "nbconvert_exporter": "python",
   "pygments_lexer": "ipython3",
   "version": "3.10.9"
  }
 },
 "nbformat": 4,
 "nbformat_minor": 5
}

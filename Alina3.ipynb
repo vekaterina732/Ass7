{
 "cells": [
  {
   "cell_type": "code",
   "execution_count": 1,
   "id": "e195904e-bcfa-47e2-85be-517100d6e39e",
   "metadata": {
    "tags": []
   },
   "outputs": [
    {
     "name": "stdout",
     "output_type": "stream",
     "text": [
      "Алгорим по вычислению положительного числа\n"
     ]
    },
    {
     "name": "stdin",
     "output_type": "stream",
     "text": [
      "Введите число:  2\n"
     ]
    },
    {
     "name": "stdout",
     "output_type": "stream",
     "text": [
      "Your number is positive\n"
     ]
    }
   ],
   "source": [
    "print('Алгорим по вычислению положительного числа')\n",
    "x=int(input(\"Введите число: \"))\n",
    "if x>0:\n",
    "    print(\"Your number is positive\")\n",
    "elif x==0:\n",
    "    print(\"0\")\n",
    "else:\n",
    "    print(f\"Your number is {x}\")"
   ]
  },
  {
   "cell_type": "code",
   "execution_count": null,
   "id": "9c26e961-90b2-459f-913b-d67547a9e841",
   "metadata": {},
   "outputs": [],
   "source": []
  }
 ],
 "metadata": {
  "kernelspec": {
   "display_name": "Python 3 (ipykernel)",
   "language": "python",
   "name": "python3"
  },
  "language_info": {
   "codemirror_mode": {
    "name": "ipython",
    "version": 3
   },
   "file_extension": ".py",
   "mimetype": "text/x-python",
   "name": "python",
   "nbconvert_exporter": "python",
   "pygments_lexer": "ipython3",
   "version": "3.10.9"
  }
 },
 "nbformat": 4,
 "nbformat_minor": 5
}

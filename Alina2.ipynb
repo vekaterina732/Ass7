{
 "cells": [
  {
   "cell_type": "code",
   "execution_count": 2,
   "id": "72ce1064-a9e3-4e87-9109-2fdcfed66b0d",
   "metadata": {},
   "outputs": [
    {
     "name": "stdin",
     "output_type": "stream",
     "text": [
      "Привет! Давай найдем сколько жулик украл сырков. Сколько сырков ты купила?:  3\n",
      "А сколько гостей сегодня придет 3\n",
      "Понятно... А кто сегодня приходил к тебе в гости?  к\n"
     ]
    },
    {
     "name": "stdout",
     "output_type": "stream",
     "text": [
      "Ошибка\n"
     ]
    },
    {
     "name": "stdin",
     "output_type": "stream",
     "text": [
      "Понятно... А кто сегодня приходил к тебе в гости?  к\n"
     ]
    },
    {
     "name": "stdout",
     "output_type": "stream",
     "text": [
      "Ошибка\n"
     ]
    },
    {
     "name": "stdin",
     "output_type": "stream",
     "text": [
      "Понятно... А кто сегодня приходил к тебе в гости?  к\n"
     ]
    },
    {
     "name": "stdout",
     "output_type": "stream",
     "text": [
      "Ошибка\n"
     ]
    }
   ],
   "source": [
    "a = int(input(\"Привет! Давай найдем сколько жулик украл сырков. Сколько сырков ты купила?: \")) \n",
    "b = int(input(\"А сколько гостей сегодня придет\"))\n",
    "def newcomer(a):\n",
    "    n = input(\"Понятно... А кто сегодня приходил к тебе в гости? \")\n",
    "\n",
    "    if n in [\"Леша\",'Алексей']:\n",
    "        t = int(input(f\"Ах этот {n}! Сколько он съел сырков? \")) \n",
    "        result = a - t\n",
    "        print(f\"Всё понятно... Значит сырков осталось {result}. А съел их {n}! Но ладно, нам не жалко, он хороший, пусть приходит на азу\")\n",
    "        return result\n",
    "\n",
    "    else:\n",
    "        print(\"Ошибка\")\n",
    "        return a\n",
    "for i in range(b):\n",
    "    a = newcomer(a)"
   ]
  },
  {
   "cell_type": "code",
   "execution_count": null,
   "id": "8ccfba99-782c-4fc5-99ef-4dc51309666e",
   "metadata": {},
   "outputs": [],
   "source": []
  }
 ],
 "metadata": {
  "kernelspec": {
   "display_name": "Python 3 (ipykernel)",
   "language": "python",
   "name": "python3"
  },
  "language_info": {
   "codemirror_mode": {
    "name": "ipython",
    "version": 3
   },
   "file_extension": ".py",
   "mimetype": "text/x-python",
   "name": "python",
   "nbconvert_exporter": "python",
   "pygments_lexer": "ipython3",
   "version": "3.10.9"
  }
 },
 "nbformat": 4,
 "nbformat_minor": 5
}

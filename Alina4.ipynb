{
 "cells": [
  {
   "cell_type": "code",
   "execution_count": 1,
   "id": "97813d9a-8370-4f7d-994a-1d786b240f45",
   "metadata": {
    "tags": []
   },
   "outputs": [
    {
     "name": "stdout",
     "output_type": "stream",
     "text": [
      "3\n",
      "tri\n",
      "order\n",
      "[1, 2, 3, 'Hello', True, 1.5, None, 2, 1, 1.2345]\n"
     ]
    }
   ],
   "source": [
    "g=[1, 2, 3, \"Hello\", True, 1.5, None, 2] #lists (there is a certain order)\n",
    "h={1, 2, 3, \"Hiiii\", 3, 2} #множество (нет повторений и нет порядка)\n",
    "s=(1, 2, 3, \"Hello\", True, 1.5, None, 2) #tuple неизменяемые  \n",
    "y={1:\"один\", 2:\"dva\", 2:\"tri\"} #словарь ключ=значение по сути словарь это то же множество, но тут у каждого свое значение \n",
    "t={(1, 2, 3): \"order\"}\n",
    " #итерация\n",
    "print(g[2]) #списки мы получаем по порядковому номеру элемента\n",
    "print(y[2]) #словари мы через ключи\n",
    "print(t[(1, 2, 3)])\n",
    "g.append(1) #методы - та же самая функция только круче\n",
    "l=g+[1.2345]\n",
    "print(l)"
   ]
  },
  {
   "cell_type": "code",
   "execution_count": null,
   "id": "e97cbf79-66c6-44e3-83cd-294039304408",
   "metadata": {},
   "outputs": [],
   "source": []
  }
 ],
 "metadata": {
  "kernelspec": {
   "display_name": "Python 3 (ipykernel)",
   "language": "python",
   "name": "python3"
  },
  "language_info": {
   "codemirror_mode": {
    "name": "ipython",
    "version": 3
   },
   "file_extension": ".py",
   "mimetype": "text/x-python",
   "name": "python",
   "nbconvert_exporter": "python",
   "pygments_lexer": "ipython3",
   "version": "3.10.9"
  }
 },
 "nbformat": 4,
 "nbformat_minor": 5
}
